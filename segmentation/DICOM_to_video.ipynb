{
 "cells": [
  {
   "cell_type": "markdown",
   "metadata": {},
   "source": [
    "# DICOM to Video\n"
   ]
  },
  {
   "cell_type": "markdown",
   "metadata": {},
   "source": [
    "## Define Method"
   ]
  },
  {
   "cell_type": "code",
   "execution_count": 1,
   "metadata": {},
   "outputs": [],
   "source": [
    "import pydicom\n",
    "import matplotlib.pyplot as plt\n",
    "import ipywidgets as widgets\n",
    "import IPython.display as display\n",
    "import os\n",
    "import time\n",
    "import cv2\n",
    "\n",
    "def load_dcm(path):\n",
    "    dcm = pydicom.dcmread(path)\n",
    "    return dcm\n",
    "\n",
    "def cvt_bgr(dcm):\n",
    "    frames = dcm.pixel_array\n",
    "    if dcm.PhotometricInterpretation == 'YBR_FULL_422':\n",
    "        for i, f in enumerate(frames):\n",
    "            frames[i] = cv2.cvtColor(f, cv2.COLOR_YCrCb2BGR)\n",
    "    elif dcm.PhotometricInterpretation == 'RGB':\n",
    "        for i, f in enumerate(frames):\n",
    "            frames[i] = cv2.cvtColor(f, cv2.COLOR_RGB2BGR)\n",
    "    return frames\n",
    "\n",
    "def generate_video(frames, fps, output_path, name):\n",
    "    height, width = frames.shape[1], frames.shape[2]\n",
    "    fourcc = cv2.VideoWriter_fourcc(*'XVID')\n",
    "    file_format = '.avi'\n",
    "    output_file = f\"{output_path}/{name}{file_format}\"\n",
    "    video = cv2.VideoWriter(output_file, fourcc, fps, (width, height))\n",
    "    for frame in frames:\n",
    "        video.write(frame)\n",
    "    video.release()\n",
    "    \n",
    "def save_imgs(save_dir, frames, name):\n",
    "    os.makedirs(f\"{save_dir}/{name}\", exist_ok=True)\n",
    "    for i, img in enumerate(frames):\n",
    "        cv2.imwrite(f\"{save_dir}/{name}/{i}.jpg\", img)\n",
    "\n",
    "def load_video(video_path):\n",
    "    cap = cv2.VideoCapture(video_path)\n",
    "    if not cap.isOpened():\n",
    "        print(\"Error: Could not open video.\")\n",
    "        return None\n",
    "    return cap\n",
    "\n",
    "def show_video(video_path):\n",
    "    cap = load_video(video_path)\n",
    "    if cap is None:\n",
    "        print(\"Error: Could not open video.\")\n",
    "        return\n",
    "    width, height = int(cap.get(cv2.CAP_PROP_FRAME_WIDTH)), int(cap.get(cv2.CAP_PROP_FRAME_HEIGHT))\n",
    "    fps = cap.get(cv2.CAP_PROP_FPS)\n",
    "    frame_cnt = int(cap.get(cv2.CAP_PROP_FRAME_COUNT))\n",
    "    if width < 200 or height < 200:\n",
    "        width *= 2\n",
    "        height *= 2\n",
    "    wImg = widgets.Image(width=width, height=height)\n",
    "    display.display(wImg)\n",
    "    if cap.isOpened():\n",
    "        ret, frame = cap.read()\n",
    "        while ret:\n",
    "            tmpStream = cv2.imencode(\".jpeg\", frame)[1].tobytes()\n",
    "            wImg.value = tmpStream\n",
    "            time.sleep(1/fps)\n",
    "            ret, frame = cap.read()\n",
    "    cap.release()\n",
    "    cv2.destroyAllWindows()"
   ]
  },
  {
   "cell_type": "code",
   "execution_count": 2,
   "metadata": {},
   "outputs": [
    {
     "name": "stderr",
     "output_type": "stream",
     "text": [
      "Converting dicom to videos and images: 100%|==========| 3583/3583 [1:36:10<00:00,  1.61s/it]\n"
     ]
    }
   ],
   "source": [
    "import pydicom\n",
    "from tqdm import tqdm\n",
    "import pandas as pd\n",
    "\n",
    "codebook = pd.read_csv('../dataset/RVENet/codebook.csv')\n",
    "file_format = '.dcm'\n",
    "dicom_dir = '../dataset/RVENet/DICOM'\n",
    "\n",
    "pbar = tqdm(codebook.iloc, total=len(codebook), desc='Converting dicom to videos and images', ascii=\" =\", leave=True)\n",
    "for code in pbar:\n",
    "    name = code['FileName']\n",
    "    fps = code['FPS']\n",
    "    file_path = f'{dicom_dir}/{name}{file_format}'\n",
    "    dcm = load_dcm(file_path)\n",
    "    frames = cvt_bgr(dcm)\n",
    "    os.makedirs(f'../dataset/RVENet/Videos', exist_ok=True)\n",
    "    generate_video(frames, fps, '../dataset/RVENet/Videos', name)\n",
    "    save_imgs('../dataset/RVENet/Images', frames, name)\n",
    "pbar.close()"
   ]
  },
  {
   "cell_type": "code",
   "execution_count": 38,
   "metadata": {},
   "outputs": [
    {
     "data": {
      "application/vnd.jupyter.widget-view+json": {
       "model_id": "b6da831276364ffba5704d507794e0f7",
       "version_major": 2,
       "version_minor": 0
      },
      "text/plain": [
       "Image(value=b'', height='708', width='1016')"
      ]
     },
     "metadata": {},
     "output_type": "display_data"
    }
   ],
   "source": [
    "import numpy as np\n",
    "\n",
    "file_names = codebook['FileName'].values\n",
    "name = np.random.choice(file_names)\n",
    "show_video(f'../dataset/RVENet/Videos/{name}.avi')"
   ]
  },
  {
   "cell_type": "code",
   "execution_count": null,
   "metadata": {},
   "outputs": [],
   "source": []
  }
 ],
 "metadata": {
  "kernelspec": {
   "display_name": "Python 3",
   "language": "python",
   "name": "python3"
  },
  "language_info": {
   "codemirror_mode": {
    "name": "ipython",
    "version": 3
   },
   "file_extension": ".py",
   "mimetype": "text/x-python",
   "name": "python",
   "nbconvert_exporter": "python",
   "pygments_lexer": "ipython3",
   "version": "3.8.19"
  }
 },
 "nbformat": 4,
 "nbformat_minor": 2
}
