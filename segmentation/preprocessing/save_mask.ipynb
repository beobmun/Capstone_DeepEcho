{
 "cells": [
  {
   "cell_type": "code",
   "execution_count": 1,
   "metadata": {},
   "outputs": [],
   "source": [
    "import cv2\n",
    "import pandas as pd\n",
    "import numpy as np\n",
    "from matplotlib import pyplot as plt\n",
    "from PIL import Image, ImageDraw\n",
    "from tqdm import tqdm\n",
    "import os\n",
    "\n",
    "file_info_df = pd.read_csv('../../dataset/EchoNet/FileInfo.csv')\n",
    "tracings_df = pd.read_csv('../../dataset/EchoNet/VolumeTracings.csv')\n",
    "\n",
    "def cycling_points(name, frame):\n",
    "    tracings = tracings_df[tracings_df['FileName'] == name]    \n",
    "    t = tracings[tracings['Frame'] == frame]\n",
    "    points_l = list()\n",
    "    points_r = list()\n",
    "    for i in range(len(t)):\n",
    "        c_1 = min(int(t.iloc[i]['X1'] + 0.5), 111)\n",
    "        r_1 = min(int(t.iloc[i]['Y1'] + 0.5), 111)\n",
    "        c_2 = min(int(t.iloc[i]['X2'] + 0.5), 111)\n",
    "        r_2 = min(int(t.iloc[i]['Y2'] + 0.5), 111)\n",
    "        if c_1 > c_2:\n",
    "            c_1, c_2 = c_2, c_1\n",
    "            r_1, r_2 = r_2, r_1\n",
    "        points_l.append((c_1, r_1))\n",
    "        points_r.append((c_2, r_2))\n",
    "    points_l.sort(key=lambda x: x[1])\n",
    "    points_r.sort(key=lambda x: x[1], reverse=True)\n",
    "    points = points_l + points_r\n",
    "    return points"
   ]
  },
  {
   "cell_type": "code",
   "execution_count": 2,
   "metadata": {},
   "outputs": [
    {
     "name": "stderr",
     "output_type": "stream",
     "text": [
      "100%|██████████| 6018/6018 [09:54<00:00, 10.13it/s]\n"
     ]
    }
   ],
   "source": [
    "# train data mask generation\n",
    "\n",
    "train_df = file_info_df[file_info_df['Split'] == 'Train']\n",
    "\n",
    "for name in tqdm(train_df['FileName']):\n",
    "    esv_frame = train_df[train_df['FileName'] == name]['ESV'].values[0]\n",
    "    edv_frame = train_df[train_df['FileName'] == name]['EDV'].values[0]\n",
    "    img_path = f'../../dataset/EchoNet/Images/{name}'\n",
    "    esv_img = cv2.imread(f'{img_path}/{esv_frame}.jpg', cv2.IMREAD_GRAYSCALE)\n",
    "    edv_img = cv2.imread(f'{img_path}/{edv_frame}.jpg', cv2.IMREAD_GRAYSCALE)\n",
    "    \n",
    "    esv_poly_img = Image.new('RGB', esv_img.shape, (0,0,0))\n",
    "    esv_draw = ImageDraw.Draw(esv_poly_img)\n",
    "    esv_polygon_coords = cycling_points(f'{name}.avi', esv_frame)\n",
    "    esv_draw.polygon(esv_polygon_coords, fill=(255, 255, 255))\n",
    "    \n",
    "    edv_poly_img = Image.new('RGB', edv_img.shape, (0,0,0))\n",
    "    edv_draw = ImageDraw.Draw(edv_poly_img)\n",
    "    edv_polygon_coords = cycling_points(f'{name}.avi', edv_frame)\n",
    "    edv_draw.polygon(edv_polygon_coords, fill=(255, 255, 255))\n",
    "    \n",
    "    esv_poly_img = np.array(esv_poly_img)\n",
    "    esv_poly_img[esv_poly_img < esv_poly_img.max()*0.9] = 0\n",
    "    \n",
    "    os.makedirs(f'../../dataset/EchoNet/Masks/{name}', exist_ok=True)\n",
    "    cv2.imwrite(f'../../dataset/EchoNet/Masks/{name}/ESV_mask.jpg', np.array(esv_poly_img))\n",
    "    cv2.imwrite(f'../../dataset/EchoNet/Masks/{name}/EDV_mask.jpg', np.array(edv_poly_img))"
   ]
  },
  {
   "cell_type": "code",
   "execution_count": 3,
   "metadata": {},
   "outputs": [
    {
     "name": "stderr",
     "output_type": "stream",
     "text": [
      "  0%|          | 0/2006 [00:00<?, ?it/s]"
     ]
    },
    {
     "name": "stderr",
     "output_type": "stream",
     "text": [
      "100%|██████████| 2006/2006 [03:12<00:00, 10.42it/s]\n"
     ]
    }
   ],
   "source": [
    "# Validation data mask generation\n",
    "val_df = file_info_df[file_info_df['Split'] == 'Val']\n",
    "\n",
    "for name in tqdm(val_df['FileName']):\n",
    "    esv_frame = val_df[val_df['FileName'] == name]['ESV'].values[0]\n",
    "    edv_frame = val_df[val_df['FileName'] == name]['EDV'].values[0]\n",
    "    img_path = f'../../dataset/EchoNet/Images/{name}'\n",
    "    esv_img = cv2.imread(f'{img_path}/{esv_frame}.jpg', cv2.IMREAD_GRAYSCALE)\n",
    "    edv_img = cv2.imread(f'{img_path}/{edv_frame}.jpg', cv2.IMREAD_GRAYSCALE)\n",
    "    \n",
    "    esv_poly_img = Image.new('RGB', esv_img.shape, (0,0,0))\n",
    "    esv_draw = ImageDraw.Draw(esv_poly_img)\n",
    "    esv_polygon_coords = cycling_points(f'{name}.avi', esv_frame)\n",
    "    esv_draw.polygon(esv_polygon_coords, fill=(255, 255, 255))\n",
    "    \n",
    "    edv_poly_img = Image.new('RGB', edv_img.shape, (0,0,0))\n",
    "    edv_draw = ImageDraw.Draw(edv_poly_img)\n",
    "    edv_polygon_coords = cycling_points(f'{name}.avi', edv_frame)\n",
    "    edv_draw.polygon(edv_polygon_coords, fill=(255, 255, 255))\n",
    "    \n",
    "    esv_poly_img = np.array(esv_poly_img)\n",
    "    esv_poly_img[esv_poly_img < esv_poly_img.max()*0.9] = 0\n",
    "    \n",
    "    os.makedirs(f'../../dataset/EchoNet/Masks/{name}', exist_ok=True)\n",
    "    cv2.imwrite(f'../../dataset/EchoNet/Masks/{name}/ESV_mask.jpg', np.array(esv_poly_img))\n",
    "    cv2.imwrite(f'../../dataset/EchoNet/Masks/{name}/EDV_mask.jpg', np.array(edv_poly_img))"
   ]
  },
  {
   "cell_type": "code",
   "execution_count": null,
   "metadata": {},
   "outputs": [],
   "source": []
  }
 ],
 "metadata": {
  "kernelspec": {
   "display_name": "Python 3",
   "language": "python",
   "name": "python3"
  },
  "language_info": {
   "codemirror_mode": {
    "name": "ipython",
    "version": 3
   },
   "file_extension": ".py",
   "mimetype": "text/x-python",
   "name": "python",
   "nbconvert_exporter": "python",
   "pygments_lexer": "ipython3",
   "version": "3.10.15"
  }
 },
 "nbformat": 4,
 "nbformat_minor": 2
}
