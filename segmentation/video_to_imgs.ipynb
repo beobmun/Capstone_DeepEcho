{
 "cells": [
  {
   "cell_type": "markdown",
   "metadata": {},
   "source": [
    "# Video to Image"
   ]
  },
  {
   "cell_type": "markdown",
   "metadata": {},
   "source": [
    "## Define Method"
   ]
  },
  {
   "cell_type": "code",
   "execution_count": 16,
   "metadata": {},
   "outputs": [],
   "source": [
    "import cv2\n",
    "import ipywidgets as widgets\n",
    "import IPython.display as display\n",
    "import pandas as pd\n",
    "import numpy as np\n",
    "import time\n",
    "import os\n",
    "\n",
    "def load_video(video_path):\n",
    "    cap = cv2.VideoCapture(video_path)\n",
    "    if not cap.isOpened():\n",
    "        print(\"Error: Could not open video.\")\n",
    "        return None\n",
    "    return cap\n",
    "\n",
    "def convert_to_imgs(video_path):\n",
    "    cap = load_video(video_path)\n",
    "    if cap is None:\n",
    "        return None\n",
    "    imgs = []\n",
    "    if cap.isOpened():\n",
    "        ret, frame = cap.read()\n",
    "        while ret:\n",
    "            imgs.append(frame)\n",
    "            ret, frame = cap.read()\n",
    "    cap.release()\n",
    "    cv2.destroyAllWindows()\n",
    "    return np.array(imgs)\n",
    "\n",
    "def save_imgs(video_name, save_dir, imgs):\n",
    "    os.makedirs(f\"{save_dir}/{video_name}\", exist_ok=True)\n",
    "    for i, img in enumerate(imgs):\n",
    "        cv2.imwrite(f\"{save_dir}/{video_name}/{i}.jpg\", img)\n",
    "\n",
    "def show_video(video_path):\n",
    "    cap = load_video(video_path)\n",
    "    if cap is None:\n",
    "        print(\"Error: Could not open video.\")\n",
    "        return\n",
    "    width, height = int(cap.get(cv2.CAP_PROP_FRAME_WIDTH)), int(cap.get(cv2.CAP_PROP_FRAME_HEIGHT))\n",
    "    fps = cap.get(cv2.CAP_PROP_FPS)\n",
    "    frame_cnt = int(cap.get(cv2.CAP_PROP_FRAME_COUNT))\n",
    "    if width < 200 or height < 200:\n",
    "        width *= 2\n",
    "        height *= 2\n",
    "    wImg = widgets.Image(width=width, height=height)\n",
    "    display.display(wImg)\n",
    "    if cap.isOpened():\n",
    "        ret, frame = cap.read()\n",
    "        while ret:\n",
    "            tmpStream = cv2.imencode(\".jpeg\", frame)[1].tobytes()\n",
    "            wImg.value = tmpStream\n",
    "            time.sleep(1/fps)\n",
    "            ret, frame = cap.read()\n",
    "    cap.release()\n",
    "    cv2.destroyAllWindows()"
   ]
  },
  {
   "cell_type": "markdown",
   "metadata": {},
   "source": [
    "## Load Video & Convert Video to Images"
   ]
  },
  {
   "cell_type": "code",
   "execution_count": 35,
   "metadata": {},
   "outputs": [
    {
     "name": "stderr",
     "output_type": "stream",
     "text": [
      "Converting videos to images:   0%|          | 0/10030 [00:00<?, ?it/s]"
     ]
    },
    {
     "name": "stderr",
     "output_type": "stream",
     "text": [
      "Converting videos to images: 100%|==========| 10030/10030 [22:04<00:00,  7.58it/s] \n"
     ]
    }
   ],
   "source": [
    "from tqdm import tqdm\n",
    "\n",
    "video_dir = '../dataset/Videos'\n",
    "file_list = pd.read_csv('../dataset/FileList.csv')\n",
    "video_names = file_list['FileName'].values\n",
    "video_format = '.avi'\n",
    "\n",
    "pbar = tqdm(video_names, total=len(video_names), desc='Converting videos to images', ascii=\" =\", leave=True)\n",
    "for name in pbar:\n",
    "    video_path = f\"{video_dir}/{name}{video_format}\"\n",
    "    imgs = convert_to_imgs(video_path)\n",
    "    if imgs is not None:\n",
    "        save_imgs(name, '../dataset/Images', imgs)\n",
    "pbar.close()"
   ]
  },
  {
   "cell_type": "code",
   "execution_count": 36,
   "metadata": {},
   "outputs": [
    {
     "data": {
      "application/vnd.jupyter.widget-view+json": {
       "model_id": "e728bc78e72041f493dca98c1e3434d3",
       "version_major": 2,
       "version_minor": 0
      },
      "text/plain": [
       "Image(value=b'', height='224', width='224')"
      ]
     },
     "metadata": {},
     "output_type": "display_data"
    }
   ],
   "source": [
    "# Show a random video\n",
    "\n",
    "random_video = np.random.choice(video_names)\n",
    "show_video(f\"{video_dir}/{random_video}{video_format}\")"
   ]
  },
  {
   "cell_type": "code",
   "execution_count": null,
   "metadata": {},
   "outputs": [],
   "source": []
  }
 ],
 "metadata": {
  "kernelspec": {
   "display_name": "Python 3",
   "language": "python",
   "name": "python3"
  },
  "language_info": {
   "codemirror_mode": {
    "name": "ipython",
    "version": 3
   },
   "file_extension": ".py",
   "mimetype": "text/x-python",
   "name": "python",
   "nbconvert_exporter": "python",
   "pygments_lexer": "ipython3",
   "version": "3.8.19"
  }
 },
 "nbformat": 4,
 "nbformat_minor": 2
}
