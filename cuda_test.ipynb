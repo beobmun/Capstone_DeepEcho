{
 "cells": [
  {
   "cell_type": "markdown",
   "metadata": {},
   "source": [
    "# Pytorch gpu 사용 가능 확인"
   ]
  },
  {
   "cell_type": "markdown",
   "metadata": {},
   "source": [
    "## create conda env\n",
    "\n",
    "1. conda create -n [env_name] python=3.10    //      python 3.8으로 [env_name] 가상환경 생성\n",
    "\n",
    "    ex) conda create -n DeepEcho python=3.10\n",
    "2. conda activate [env_name]\n",
    "\n",
    "    ex) conda activate DeepEcho\n",
    "3. jupyer notebook 실행할려면 ipykernel 설치\n",
    "\n",
    "    ex) conda install ipykernel"
   ]
  },
  {
   "cell_type": "markdown",
   "metadata": {},
   "source": [
    "## cuda pytorch install\n",
    "\n",
    "https://pytorch.org/get-started/previous-versions/"
   ]
  },
  {
   "cell_type": "markdown",
   "metadata": {},
   "source": [
    "### cuda 11.4 conda install\n",
    "\n",
    "conda install pytorch==1.12.1 torchvision==0.13.1 torchaudio==0.12.1 cudatoolkit=11.4 -c pytorch -c conda-forge -c nvidia"
   ]
  },
  {
   "cell_type": "markdown",
   "metadata": {},
   "source": [
    "### cuda 11.3 pip install\n",
    "#### conda install 후 에러로 밑의 코드가 실행안 될 경우 \"conda remove pytorch\"로 conda 삭제 후 pip install 실행\n",
    "\n",
    "pip install torch==1.12.1+cu113 torchvision==0.13.1+cu113 torchaudio==0.12.1 --extra-index-url https://download.pytorch.org/whl/cu113"
   ]
  },
  {
   "cell_type": "code",
   "execution_count": 2,
   "metadata": {},
   "outputs": [
    {
     "name": "stdout",
     "output_type": "stream",
     "text": [
      "True\n"
     ]
    }
   ],
   "source": [
    "import torch\n",
    "\n",
    "print(torch.cuda.is_available())\n",
    "\n",
    "# True 반환 시 GPU 사용 가능\n",
    "# False 반환 시 GPU 사용 불가능"
   ]
  },
  {
   "cell_type": "code",
   "execution_count": 3,
   "metadata": {},
   "outputs": [
    {
     "name": "stdout",
     "output_type": "stream",
     "text": [
      "1\n"
     ]
    }
   ],
   "source": [
    "# 사용 가능 GPU 개수 확인\n",
    "print(torch.cuda.device_count())"
   ]
  },
  {
   "cell_type": "markdown",
   "metadata": {},
   "source": [
    "### GPU 개수 체크\n",
    "\n",
    "위의 코드 결과와 terminal 창에 아래 코드 입력하여 서버의 GPU 수와 같은지 확인\n",
    "\n",
    "nvidia-smi"
   ]
  }
 ],
 "metadata": {
  "kernelspec": {
   "display_name": "Python 3",
   "language": "python",
   "name": "python3"
  },
  "language_info": {
   "codemirror_mode": {
    "name": "ipython",
    "version": 3
   },
   "file_extension": ".py",
   "mimetype": "text/x-python",
   "name": "python",
   "nbconvert_exporter": "python",
   "pygments_lexer": "ipython3",
   "version": "3.10.15"
  }
 },
 "nbformat": 4,
 "nbformat_minor": 2
}
